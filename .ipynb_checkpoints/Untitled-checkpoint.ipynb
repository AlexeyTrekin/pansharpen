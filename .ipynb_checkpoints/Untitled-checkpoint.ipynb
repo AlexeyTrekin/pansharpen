{
 "cells": [
  {
   "cell_type": "code",
   "execution_count": 1,
   "metadata": {
    "collapsed": true
   },
   "outputs": [],
   "source": [
    "from pysharpen.methods.sharpening import IHSPansharpening\n",
    "from pysharpen.methods.preprocessing.brightness import LinearBrightnessScale\n",
    "from pysharpen.worker import Worker\n",
    "from aeronet.dataset import Band, BandCollection\n",
    "from aeronet.dataset.io import Predictor\n",
    "from aeronet.converters.split import split"
   ]
  },
  {
   "cell_type": "code",
   "execution_count": 4,
   "metadata": {
    "collapsed": true
   },
   "outputs": [],
   "source": [
    "# Setup Pansharp class\n",
    "sharpener = IHSPansharpening()\n",
    "sharpen_fn = sharpener.get_sharpen_fn()"
   ]
  },
  {
   "cell_type": "code",
   "execution_count": 8,
   "metadata": {
    "collapsed": true
   },
   "outputs": [],
   "source": [
    "# Setup predictor\n",
    "\n",
    "RGBNir = ['RED', 'GRN', 'BLU', 'NIR']\n",
    "PRGBNir = ['PRED', 'PGRN', 'PBLU', 'PNIR']\n",
    "#worker = Predictor(processing_fn=sharpen_fn,sample_size=[1024, 1024], bound=0, \n",
    "#                   input_channels=RGBNir, output_labels=PRGBNir)"
   ]
  },
  {
   "cell_type": "code",
   "execution_count": 9,
   "metadata": {
    "collapsed": true
   },
   "outputs": [],
   "source": [
    "# Prepare data\n",
    "DIR = '/home/trekin/Data/SPOT/'\n",
    "MS_FILE = DIR + 'MS.tif'\n",
    "PAN_FILE = DIR + 'PAN.tif'\n",
    "\n",
    "# Read band/collection\n",
    "PAN_B = Band(PAN_FILE)\n",
    "MS_BC = split(MS_FILE, DIR, RGBNir)#.resample(dst_res=PAN_B.res)"
   ]
  },
  {
   "cell_type": "code",
   "execution_count": 23,
   "metadata": {},
   "outputs": [
    {
     "name": "stdout",
     "output_type": "stream",
     "text": [
      "(19776, 19268) EPSG:32723 (1.5, 1.5) | 1.50, 0.00, 906611.25|\n",
      "| 0.00,-1.50, 9200394.75|\n",
      "| 0.00, 0.00, 1.00|\n",
      "(4, 19776, 19268) EPSG:32723 (1.5, 1.5) | 1.50, 0.00, 906609.00|\n",
      "| 0.00,-1.50, 9200397.00|\n",
      "| 0.00, 0.00, 1.00|\n"
     ]
    },
    {
     "data": {
      "text/plain": [
       "False"
      ]
     },
     "execution_count": 23,
     "metadata": {},
     "output_type": "execute_result"
    }
   ],
   "source": [
    "print(PAN_B.shape, PAN_B.crs, PAN_B.res, PAN_B.transform)\n",
    "print(MS_BC.shape, MS_BC.crs, MS_BC.res, MS_BC.transform)\n",
    "MS_BC[0].same(PAN_B)"
   ]
  },
  {
   "cell_type": "code",
   "execution_count": null,
   "metadata": {
    "collapsed": true
   },
   "outputs": [],
   "source": [
    "MS_ORIG = '/home/trekin/Data/SPOT/SPOT6_1.5m_Ortho_Bundle_12_bits/PROD_SPOT6_001/VOL_SPOT6_001_A/IMG_SPOT6_MS_001_A/'"
   ]
  },
  {
   "cell_type": "code",
   "execution_count": 20,
   "metadata": {},
   "outputs": [
    {
     "name": "stderr",
     "output_type": "stream",
     "text": [
      "Exception ignored in: <bound method Band.__del__ of <aeronet.dataset.raster.band.Band object at 0x7f519f921668>>\n",
      "Traceback (most recent call last):\n",
      "  File \"/home/trekin/anaconda3/envs/geo/lib/python3.6/site-packages/aeronet/dataset/raster/band.py\", line 31, in __del__\n",
      "    fp = self._band.name\n",
      "AttributeError: 'Band' object has no attribute '_band'\n"
     ]
    },
    {
     "ename": "ValueError",
     "evalue": "Band is not suitable for collection. CRS, transform or shape are different!",
     "output_type": "error",
     "traceback": [
      "\u001b[0;31m---------------------------------------------------------------------------\u001b[0m",
      "\u001b[0;31mValueError\u001b[0m                                Traceback (most recent call last)",
      "\u001b[0;32m<ipython-input-20-84985840c414>\u001b[0m in \u001b[0;36m<module>\u001b[0;34m\u001b[0m\n\u001b[0;32m----> 1\u001b[0;31m \u001b[0mPAN_MS_BC\u001b[0m \u001b[0;34m=\u001b[0m \u001b[0mMS_BC\u001b[0m\u001b[0;34m.\u001b[0m\u001b[0mappend\u001b[0m\u001b[0;34m(\u001b[0m\u001b[0mPAN_B\u001b[0m\u001b[0;34m)\u001b[0m\u001b[0;34m.\u001b[0m\u001b[0mordered\u001b[0m\u001b[0;34m(\u001b[0m\u001b[0;34m[\u001b[0m\u001b[0;34m'PAN'\u001b[0m\u001b[0;34m]\u001b[0m \u001b[0;34m+\u001b[0m \u001b[0mRGBNIR\u001b[0m\u001b[0;34m)\u001b[0m\u001b[0;34m\u001b[0m\u001b[0m\n\u001b[0m\u001b[1;32m      2\u001b[0m \u001b[0mPAN_MS_BC\u001b[0m\u001b[0;34m\u001b[0m\u001b[0m\n",
      "\u001b[0;32m~/anaconda3/envs/geo/lib/python3.6/site-packages/aeronet/dataset/raster/collection.py\u001b[0m in \u001b[0;36mappend\u001b[0;34m(self, other)\u001b[0m\n\u001b[1;32m     99\u001b[0m             \u001b[0mself\u001b[0m\u001b[0;34m.\u001b[0m\u001b[0m_bands\u001b[0m\u001b[0;34m.\u001b[0m\u001b[0mappend\u001b[0m\u001b[0;34m(\u001b[0m\u001b[0mother\u001b[0m\u001b[0;34m)\u001b[0m\u001b[0;34m\u001b[0m\u001b[0m\n\u001b[1;32m    100\u001b[0m         \u001b[0;32melse\u001b[0m\u001b[0;34m:\u001b[0m\u001b[0;34m\u001b[0m\u001b[0m\n\u001b[0;32m--> 101\u001b[0;31m             raise ValueError('Band is not suitable for collection. '\n\u001b[0m\u001b[1;32m    102\u001b[0m                              'CRS, transform or shape are different!')\n\u001b[1;32m    103\u001b[0m         \u001b[0;32mreturn\u001b[0m\u001b[0;34m\u001b[0m\u001b[0m\n",
      "\u001b[0;31mValueError\u001b[0m: Band is not suitable for collection. CRS, transform or shape are different!"
     ]
    }
   ],
   "source": [
    "PAN_MS_BC = MS_BC.append(PAN_B).ordered(['PAN'] + RGBNIR)\n",
    "PAN_MS_BC"
   ]
  },
  {
   "cell_type": "markdown",
   "metadata": {},
   "source": [
    "# Test the new worker using aeronetlib"
   ]
  },
  {
   "cell_type": "code",
   "execution_count": 1,
   "metadata": {},
   "outputs": [
    {
     "ename": "ImportError",
     "evalue": "/home/trekin/anaconda3/envs/geo/lib/python3.6/site-packages/zmq/backend/cython/../../../../.././libstdc++.so.6: version `GLIBCXX_3.4.26' not found (required by /home/trekin/anaconda3/envs/geo/lib/python3.6/site-packages/cv2/cv2.cpython-36m-x86_64-linux-gnu.so)",
     "output_type": "error",
     "traceback": [
      "\u001b[0;31m---------------------------------------------------------------------------\u001b[0m",
      "\u001b[0;31mImportError\u001b[0m                               Traceback (most recent call last)",
      "\u001b[0;32m<ipython-input-1-dd28387a55cb>\u001b[0m in \u001b[0;36m<module>\u001b[0;34m\u001b[0m\n\u001b[0;32m----> 1\u001b[0;31m \u001b[0;32mfrom\u001b[0m \u001b[0mpysharpen\u001b[0m \u001b[0;32mimport\u001b[0m \u001b[0mworker\u001b[0m\u001b[0;34m\u001b[0m\u001b[0m\n\u001b[0m\u001b[1;32m      2\u001b[0m \u001b[0;32mfrom\u001b[0m \u001b[0mpysharpen\u001b[0m\u001b[0;34m.\u001b[0m\u001b[0mmethods\u001b[0m \u001b[0;32mimport\u001b[0m \u001b[0mIHS\u001b[0m\u001b[0;34m\u001b[0m\u001b[0m\n",
      "\u001b[0;32m~/projects/pansharpen/pysharpen/worker.py\u001b[0m in \u001b[0;36m<module>\u001b[0;34m\u001b[0m\n\u001b[1;32m      2\u001b[0m \u001b[0;32mimport\u001b[0m \u001b[0mrasterio\u001b[0m\u001b[0;34m\u001b[0m\u001b[0m\n\u001b[1;32m      3\u001b[0m \u001b[0;32mimport\u001b[0m \u001b[0mnumpy\u001b[0m \u001b[0;32mas\u001b[0m \u001b[0mnp\u001b[0m\u001b[0;34m\u001b[0m\u001b[0m\n\u001b[0;32m----> 4\u001b[0;31m \u001b[0;32mimport\u001b[0m \u001b[0maeronet\u001b[0m\u001b[0;34m.\u001b[0m\u001b[0mdataset\u001b[0m \u001b[0;32mas\u001b[0m \u001b[0mds\u001b[0m\u001b[0;34m\u001b[0m\u001b[0m\n\u001b[0m\u001b[1;32m      5\u001b[0m \u001b[0;32mfrom\u001b[0m \u001b[0maeronet\u001b[0m\u001b[0;34m.\u001b[0m\u001b[0mconverters\u001b[0m\u001b[0;34m.\u001b[0m\u001b[0msplit\u001b[0m \u001b[0;32mimport\u001b[0m \u001b[0msplit\u001b[0m\u001b[0;34m\u001b[0m\u001b[0m\n\u001b[1;32m      6\u001b[0m \u001b[0;34m\u001b[0m\u001b[0m\n",
      "\u001b[0;32m~/anaconda3/envs/geo/lib/python3.6/site-packages/aeronet/dataset/__init__.py\u001b[0m in \u001b[0;36m<module>\u001b[0;34m\u001b[0m\n\u001b[1;32m     11\u001b[0m \u001b[0;32mfrom\u001b[0m \u001b[0;34m.\u001b[0m\u001b[0mio\u001b[0m \u001b[0;32mimport\u001b[0m \u001b[0mPredictor\u001b[0m\u001b[0;34m\u001b[0m\u001b[0m\n\u001b[1;32m     12\u001b[0m \u001b[0;34m\u001b[0m\u001b[0m\n\u001b[0;32m---> 13\u001b[0;31m \u001b[0;32mfrom\u001b[0m \u001b[0;34m.\u001b[0m\u001b[0mtransforms\u001b[0m \u001b[0;32mimport\u001b[0m \u001b[0mpolygonize\u001b[0m\u001b[0;34m\u001b[0m\u001b[0m\n\u001b[0m\u001b[1;32m     14\u001b[0m \u001b[0;32mfrom\u001b[0m \u001b[0;34m.\u001b[0m\u001b[0mtransforms\u001b[0m \u001b[0;32mimport\u001b[0m \u001b[0mrasterize\u001b[0m\u001b[0;34m\u001b[0m\u001b[0m\n\u001b[1;32m     15\u001b[0m \u001b[0;34m\u001b[0m\u001b[0m\n",
      "\u001b[0;32m~/anaconda3/envs/geo/lib/python3.6/site-packages/aeronet/dataset/transforms/__init__.py\u001b[0m in \u001b[0;36m<module>\u001b[0;34m\u001b[0m\n\u001b[0;32m----> 1\u001b[0;31m \u001b[0;32mfrom\u001b[0m \u001b[0;34m.\u001b[0m\u001b[0m_vectorize\u001b[0m \u001b[0;32mimport\u001b[0m \u001b[0mpolygonize\u001b[0m\u001b[0;34m\u001b[0m\u001b[0m\n\u001b[0m\u001b[1;32m      2\u001b[0m \u001b[0;32mfrom\u001b[0m \u001b[0;34m.\u001b[0m\u001b[0m_rasterize\u001b[0m \u001b[0;32mimport\u001b[0m \u001b[0mrasterize\u001b[0m\u001b[0;34m\u001b[0m\u001b[0m\n",
      "\u001b[0;32m~/anaconda3/envs/geo/lib/python3.6/site-packages/aeronet/dataset/transforms/_vectorize.py\u001b[0m in \u001b[0;36m<module>\u001b[0;34m\u001b[0m\n\u001b[0;32m----> 1\u001b[0;31m \u001b[0;32mimport\u001b[0m \u001b[0mcv2\u001b[0m\u001b[0;34m\u001b[0m\u001b[0m\n\u001b[0m\u001b[1;32m      2\u001b[0m \u001b[0;32mimport\u001b[0m \u001b[0mnumpy\u001b[0m \u001b[0;32mas\u001b[0m \u001b[0mnp\u001b[0m\u001b[0;34m\u001b[0m\u001b[0m\n\u001b[1;32m      3\u001b[0m \u001b[0;32mfrom\u001b[0m \u001b[0mcollections\u001b[0m \u001b[0;32mimport\u001b[0m \u001b[0mdefaultdict\u001b[0m\u001b[0;34m\u001b[0m\u001b[0m\n\u001b[1;32m      4\u001b[0m \u001b[0;32mfrom\u001b[0m \u001b[0mrasterio\u001b[0m\u001b[0;34m.\u001b[0m\u001b[0mtransform\u001b[0m \u001b[0;32mimport\u001b[0m \u001b[0mIDENTITY\u001b[0m\u001b[0;34m,\u001b[0m \u001b[0mxy\u001b[0m\u001b[0;34m\u001b[0m\u001b[0m\n\u001b[1;32m      5\u001b[0m \u001b[0;32mfrom\u001b[0m \u001b[0mshapely\u001b[0m\u001b[0;34m.\u001b[0m\u001b[0mgeometry\u001b[0m \u001b[0;32mimport\u001b[0m \u001b[0mshape\u001b[0m\u001b[0;34m,\u001b[0m \u001b[0mPolygon\u001b[0m\u001b[0;34m,\u001b[0m \u001b[0mMultiPolygon\u001b[0m\u001b[0;34m,\u001b[0m \u001b[0mGeometryCollection\u001b[0m\u001b[0;34m\u001b[0m\u001b[0m\n",
      "\u001b[0;32m~/anaconda3/envs/geo/lib/python3.6/site-packages/cv2/__init__.py\u001b[0m in \u001b[0;36m<module>\u001b[0;34m\u001b[0m\n\u001b[1;32m      3\u001b[0m \u001b[0;32mimport\u001b[0m \u001b[0msys\u001b[0m\u001b[0;34m\u001b[0m\u001b[0m\n\u001b[1;32m      4\u001b[0m \u001b[0;34m\u001b[0m\u001b[0m\n\u001b[0;32m----> 5\u001b[0;31m \u001b[0;32mfrom\u001b[0m \u001b[0;34m.\u001b[0m\u001b[0mcv2\u001b[0m \u001b[0;32mimport\u001b[0m \u001b[0;34m*\u001b[0m\u001b[0;34m\u001b[0m\u001b[0m\n\u001b[0m\u001b[1;32m      6\u001b[0m \u001b[0;32mfrom\u001b[0m \u001b[0;34m.\u001b[0m\u001b[0mdata\u001b[0m \u001b[0;32mimport\u001b[0m \u001b[0;34m*\u001b[0m\u001b[0;34m\u001b[0m\u001b[0m\n\u001b[1;32m      7\u001b[0m \u001b[0;34m\u001b[0m\u001b[0m\n",
      "\u001b[0;31mImportError\u001b[0m: /home/trekin/anaconda3/envs/geo/lib/python3.6/site-packages/zmq/backend/cython/../../../../.././libstdc++.so.6: version `GLIBCXX_3.4.26' not found (required by /home/trekin/anaconda3/envs/geo/lib/python3.6/site-packages/cv2/cv2.cpython-36m-x86_64-linux-gnu.so)"
     ]
    }
   ],
   "source": [
    "from pysharpen import worker\n",
    "from pysharpen.methods import IHS"
   ]
  },
  {
   "cell_type": "code",
   "execution_count": 1,
   "metadata": {},
   "outputs": [
    {
     "name": "stdout",
     "output_type": "stream",
     "text": [
      "{'driver': 'GTiff', 'dtype': 'uint8', 'nodata': 0.0, 'width': 8000, 'height': 4000, 'count': 3, 'crs': CRS.from_epsg(4326), 'transform': Affine(4.222062522457779e-06, 0.0, 56.79073110353934,\n",
      "       0.0, -4.222062522457779e-06, 58.479686234376565), 'tiled': False, 'interleave': 'band'}\n"
     ]
    }
   ],
   "source": [
    "import rasterio\n",
    "import numpy as np\n",
    "\n",
    "out_img = '/home/trekin/Data/sharpen/RGB8bit_.tif'\n",
    "\n",
    "with rasterio.open(out_img) as src:\n",
    "    img = src.read()\n",
    "    print(src.profile)"
   ]
  },
  {
   "cell_type": "code",
   "execution_count": 10,
   "metadata": {},
   "outputs": [
    {
     "data": {
      "image/png": "[encoded data removed]",
      "text/plain": [
       "<matplotlib.figure.Figure at 0x7fe705100e80>"
      ]
     },
     "metadata": {},
     "output_type": "display_data"
    }
   ],
   "source": [
    "import tifffile as tiff\n",
    "from matplotlib import pyplot as plt\n",
    "\n",
    "tiff.imshow(img[0])\n",
    "plt.show()"
   ]
  },
  {
   "cell_type": "code",
   "execution_count": 12,
   "metadata": {},
   "outputs": [
    {
     "data": {
      "text/plain": [
       "0"
      ]
     },
     "execution_count": 12,
     "metadata": {},
     "output_type": "execute_result"
    }
   ],
   "source": [
    "img[1].max()"
   ]
  },
  {
   "cell_type": "markdown",
   "metadata": {},
   "source": [
    "# Test meanstd setup from image as whole and from patches"
   ]
  },
  {
   "cell_type": "code",
   "execution_count": 57,
   "metadata": {},
   "outputs": [
    {
     "name": "stdout",
     "output_type": "stream",
     "text": [
      "(3, 4000, 8000) 953.04514325 308.6756033926154\n"
     ]
    }
   ],
   "source": [
    "import rasterio\n",
    "import numpy as np\n",
    "\n",
    "\n",
    "with rasterio.open('/home/trekin/Data/sharpen/RGB16bit_.tif') as src:\n",
    "    data = src.read()\n",
    "    \n",
    "true_mean = data.mean()\n",
    "true_std = data.std()\n",
    "print(data.shape, true_mean, true_std)"
   ]
  },
  {
   "cell_type": "code",
   "execution_count": 119,
   "metadata": {
    "collapsed": true
   },
   "outputs": [],
   "source": [
    "from math import sqrt\n",
    "\n",
    "def _meanstdme(img, axis=None):\n",
    "    mean = img.mean(axis)\n",
    "    std = img.std(axis)\n",
    "    num = img.size\n",
    "    me = (img - mean).sum(axis) / num\n",
    "\n",
    "    return mean, std, num, me\n",
    "\n",
    "def _totalmeanstd(means, stds, nums, mes):\n",
    "    mean = np.sum([m*n for m,n in zip(means, nums)])/np.sum(nums)\n",
    "    # TODO: test it\n",
    "    std =sqrt(np.sum(\n",
    "        [(nums[i]*(stds[i]**2 + (mean - means[i])**2 + 2*(means[i] - mean)*mes[i]))\n",
    "           for i in range(len(means))])/np.sum(nums))\n",
    "    return mean, std\n"
   ]
  },
  {
   "cell_type": "code",
   "execution_count": null,
   "metadata": {
    "collapsed": true
   },
   "outputs": [],
   "source": []
  },
  {
   "cell_type": "code",
   "execution_count": 59,
   "metadata": {},
   "outputs": [
    {
     "name": "stdout",
     "output_type": "stream",
     "text": [
      "953.04514325 308.6756033926156\n",
      "True True\n"
     ]
    }
   ],
   "source": [
    "means = []\n",
    "stds = []\n",
    "mes = []\n",
    "nums = []\n",
    "\n",
    "for i in range (int(data.shape[1]/1000)):\n",
    "    for j in range(int(data.shape[2]/1000)):\n",
    "        patch = data[:, 1000*i:1000*(i+1), 1000*j:1000*(j+1)]\n",
    "        #print(patch.shape)\n",
    "        mean, std, num, me = _meanstdme(patch)\n",
    "        means.append(mean)\n",
    "        stds.append(std)\n",
    "        mes.append(me)\n",
    "        nums.append(num)\n",
    "patch_mean, patch_std = _totalmeanstd(means, stds, nums, mes)\n",
    "print(patch_mean, patch_std)\n",
    "print(patch_mean==true_mean, abs(patch_std - true_std) < 0.00001)"
   ]
  },
  {
   "cell_type": "code",
   "execution_count": 35,
   "metadata": {},
   "outputs": [
    {
     "name": "stdout",
     "output_type": "stream",
     "text": [
      "[1174.882893, 1216.4367, 1201.545188, 1175.111678, 1152.055057, 1111.834188, 1177.241495, 1154.717909, 1188.212095, 1162.32524, 1165.870514, 1181.729364, 1194.419346, 1191.663371, 1192.464789, 1174.028005, 1181.4217, 1221.301041, 1212.17975, 1165.666854, 1192.555317, 1151.9786, 1208.267523, 1182.409899, 1150.901052, 1216.026202, 1227.514149, 1202.834996, 1154.178923, 1160.937174, 1216.712471, 1164.224756] [215.10910899111303, 230.25402424954484, 249.36428009248783, 250.03255508038202, 240.2890201314382, 220.59801407170613, 223.63143972877558, 229.48589048930157, 223.8189933511251, 226.68644171397287, 235.2090941638435, 256.33039275933606, 248.94606527304725, 255.62189975414145, 234.68029778016196, 234.909663378755, 219.08420737038537, 214.19118128278836, 221.99028289530492, 220.96114174610582, 218.03250378333394, 221.78238040033753, 212.7083991205906, 221.97524014134953, 219.5607131052668, 213.983280714768, 210.04446370662998, 204.74644958504155, 228.90433541014482, 230.20975986889377, 215.06472797758857, 228.935339191529] [3.271270543336868e-14, 2.126034814864397e-14, -5.28525561094284e-14, 6.4974301494657995e-15, -3.3374817576259374e-14, -3.2319803722202776e-14, 1.1132215149700641e-14, 3.672903403639794e-14, -8.761708158999682e-14, 1.0478106560185552e-13, 4.003231879323721e-14, -9.269570000469684e-15, 1.0528310667723417e-13, -9.950599633157254e-14, -1.0622170520946384e-13, 3.178138285875321e-14, -3.2188836485147476e-14, 8.568167686462402e-14, -1.6923877410590648e-14, -5.756737664341927e-14, -6.439222488552332e-14, 8.512870408594609e-14, 1.7142156139016152e-14, 1.2369127944111825e-15, 6.121990736573934e-14, -1.2048985809087753e-14, -8.856295607984066e-14, -4.647881723940372e-14, 5.940091796219348e-14, 9.332143235951662e-14, -1.3445969671010971e-14, -7.02857505530119e-14] [1000000, 1000000, 1000000, 1000000, 1000000, 1000000, 1000000, 1000000, 1000000, 1000000, 1000000, 1000000, 1000000, 1000000, 1000000, 1000000, 1000000, 1000000, 1000000, 1000000, 1000000, 1000000, 1000000, 1000000, 1000000, 1000000, 1000000, 1000000, 1000000, 1000000, 1000000, 1000000]\n"
     ]
    }
   ],
   "source": [
    "print(means, stds, mes, nums)"
   ]
  },
  {
   "cell_type": "markdown",
   "metadata": {},
   "source": [
    "# Test brightness adjustment as a whole"
   ]
  },
  {
   "cell_type": "code",
   "execution_count": 1,
   "metadata": {
    "collapsed": true
   },
   "outputs": [],
   "source": [
    "# Prepare data\n",
    "from pysharpen.methods.sharpening import IHSPansharpening\n",
    "from pysharpen.methods.preprocessing.brightness import LinearBrightnessScale\n",
    "from pysharpen.worker import Worker\n",
    "from aeronet.dataset import Band, BandCollection\n",
    "from aeronet.dataset.io import Predictor\n",
    "from aeronet.converters.split import split\n",
    "RGBNir = ['RED', 'GRN', 'BLU', 'NIR']\n",
    "PRGBNir= ['PRED', 'PGRN', 'PBLU', 'PNIR']\n",
    "\n",
    "DIR = '/home/trekin/Data/SPOT/'\n",
    "MS_FILE = DIR + 'MS.tif'\n",
    "PAN_FILE = DIR + 'PAN.tif'\n",
    "\n",
    "# Read band/collection\n",
    "PAN_B = Band(PAN_FILE)\n",
    "MS_BC = split(MS_FILE, DIR, RGBNir)\n",
    "\n",
    "bc = BandCollection([b.reproject_to(PAN_B) for b in MS_BC] + [PAN_B])"
   ]
  },
  {
   "cell_type": "code",
   "execution_count": null,
   "metadata": {
    "collapsed": true
   },
   "outputs": [],
   "source": []
  },
  {
   "cell_type": "markdown",
   "metadata": {},
   "source": [
    "# Minmax"
   ]
  },
  {
   "cell_type": "code",
   "execution_count": 2,
   "metadata": {
    "collapsed": true
   },
   "outputs": [],
   "source": [
    "sharpener = LinearBrightnessScale()\n",
    "worker = Worker([sharpener])"
   ]
  },
  {
   "cell_type": "code",
   "execution_count": 3,
   "metadata": {
    "collapsed": true
   },
   "outputs": [],
   "source": [
    "worker.setup_methods(bc, [b.name for b in bc])"
   ]
  },
  {
   "cell_type": "code",
   "execution_count": 4,
   "metadata": {},
   "outputs": [
    {
     "name": "stdout",
     "output_type": "stream",
     "text": [
      "4095 4095\n"
     ]
    }
   ],
   "source": [
    "print(sharpener._ms_max_value, \n",
    "      sharpener._pan_max_value)"
   ]
  },
  {
   "cell_type": "code",
   "execution_count": 5,
   "metadata": {},
   "outputs": [
    {
     "data": {
      "text/plain": [
       "<BandCollection: ['PRED', 'PGRN', 'PBLU', 'PNIR']>"
      ]
     },
     "execution_count": 5,
     "metadata": {},
     "output_type": "execute_result"
    }
   ],
   "source": [
    "worker.process(bc, [b.name for b in bc], ['P' + b.name for b in bc[:-1]], '/home/trekin/Data/tmp/')"
   ]
  },
  {
   "cell_type": "code",
   "execution_count": 6,
   "metadata": {},
   "outputs": [
    {
     "name": "stdout",
     "output_type": "stream",
     "text": [
      "0 34055\n"
     ]
    }
   ],
   "source": [
    "import rasterio\n",
    "with rasterio.open('/home/trekin/Data/tmp/PBLU.tif') as src:\n",
    "    img = src.read(1)\n",
    "    \n",
    "print(img.min(), img.max())"
   ]
  },
  {
   "cell_type": "code",
   "execution_count": 7,
   "metadata": {
    "collapsed": true
   },
   "outputs": [],
   "source": [
    "# separate\n",
    "\n",
    "sharpener = LinearBrightnessScale(pan_separate=True, per_channel=False)\n",
    "worker = Worker([sharpener])\n",
    "worker.setup_methods(bc, [b.name for b in bc])"
   ]
  },
  {
   "cell_type": "code",
   "execution_count": 8,
   "metadata": {},
   "outputs": [
    {
     "name": "stdout",
     "output_type": "stream",
     "text": [
      "2471 4095\n"
     ]
    }
   ],
   "source": [
    "print(sharpener._ms_max_value, \n",
    "      sharpener._pan_max_value)"
   ]
  },
  {
   "cell_type": "code",
   "execution_count": 9,
   "metadata": {},
   "outputs": [
    {
     "data": {
      "text/plain": [
       "<BandCollection: ['P3RED', 'P3GRN', 'P3BLU', 'P3NIR']>"
      ]
     },
     "execution_count": 9,
     "metadata": {},
     "output_type": "execute_result"
    }
   ],
   "source": [
    "worker.process(bc, [b.name for b in bc], ['P3' + b.name for b in bc[:-1]], '/home/trekin/Data/tmp/')"
   ]
  },
  {
   "cell_type": "code",
   "execution_count": 10,
   "metadata": {},
   "outputs": [
    {
     "name": "stdout",
     "output_type": "stream",
     "text": [
      "0 56438\n"
     ]
    }
   ],
   "source": [
    "import rasterio\n",
    "with rasterio.open('/home/trekin/Data/tmp/P3BLU.tif') as src:\n",
    "    img = src.read(1)\n",
    "    \n",
    "print(img.min(), img.max())"
   ]
  },
  {
   "cell_type": "code",
   "execution_count": 11,
   "metadata": {
    "collapsed": true
   },
   "outputs": [],
   "source": [
    "#per-channel\n",
    "sharpener = LinearBrightnessScale(pan_separate=True, per_channel=True)\n",
    "worker = Worker([sharpener])\n",
    "worker.setup_methods(bc, [b.name for b in bc])"
   ]
  },
  {
   "cell_type": "code",
   "execution_count": 12,
   "metadata": {},
   "outputs": [
    {
     "name": "stdout",
     "output_type": "stream",
     "text": [
      "[2471 2339 2128 2354] 4095\n"
     ]
    }
   ],
   "source": [
    "print(sharpener._ms_max_value, \n",
    "      sharpener._pan_max_value)"
   ]
  },
  {
   "cell_type": "code",
   "execution_count": 13,
   "metadata": {},
   "outputs": [
    {
     "data": {
      "text/plain": [
       "<BandCollection: ['P4RED', 'P4GRN', 'P4BLU', 'P4NIR']>"
      ]
     },
     "execution_count": 13,
     "metadata": {},
     "output_type": "execute_result"
    }
   ],
   "source": [
    "worker.process(bc, [b.name for b in bc], ['P4' + b.name for b in bc[:-1]], '/home/trekin/Data/tmp/')"
   ]
  },
  {
   "cell_type": "code",
   "execution_count": 14,
   "metadata": {},
   "outputs": [
    {
     "name": "stdout",
     "output_type": "stream",
     "text": [
      "0 65535\n"
     ]
    }
   ],
   "source": [
    "import rasterio\n",
    "with rasterio.open('/home/trekin/Data/tmp/P4BLU.tif') as src:\n",
    "    img = src.read(1)\n",
    "    \n",
    "print(img.min(), img.max())"
   ]
  },
  {
   "cell_type": "markdown",
   "metadata": {},
   "source": [
    "# Meanstd "
   ]
  },
  {
   "cell_type": "code",
   "execution_count": 2,
   "metadata": {
    "collapsed": true
   },
   "outputs": [],
   "source": [
    "sharpener = LinearBrightnessScale(method = 'meanstd')\n",
    "worker = Worker([sharpener])"
   ]
  },
  {
   "cell_type": "code",
   "execution_count": 3,
   "metadata": {
    "collapsed": true
   },
   "outputs": [],
   "source": [
    "worker.setup_methods(bc, [b.name for b in bc])"
   ]
  },
  {
   "cell_type": "code",
   "execution_count": 4,
   "metadata": {},
   "outputs": [
    {
     "name": "stdout",
     "output_type": "stream",
     "text": [
      "413.08831053323485 197.24945400015687\n"
     ]
    }
   ],
   "source": [
    "img = bc.numpy()\n",
    "print(img.mean(), img.std())"
   ]
  },
  {
   "cell_type": "code",
   "execution_count": 5,
   "metadata": {},
   "outputs": [
    {
     "name": "stdout",
     "output_type": "stream",
     "text": [
      "375.28230900764464 222.5633735256667\n",
      "375.28230900764464 222.5633735256667\n"
     ]
    }
   ],
   "source": [
    "print(sharpener._ms_mean_value, sharpener._ms_std_value)\n",
    "print(sharpener._pan_mean_value, sharpener._pan_std_value)"
   ]
  },
  {
   "cell_type": "code",
   "execution_count": 20,
   "metadata": {},
   "outputs": [
    {
     "data": {
      "text/plain": [
       "<BandCollection: ['P2RED', 'P2GRN', 'P2BLU', 'P2NIR']>"
      ]
     },
     "execution_count": 20,
     "metadata": {},
     "output_type": "execute_result"
    }
   ],
   "source": [
    "worker.process(bc, [b.name for b in bc], ['P2' + b.name for b in bc[:-1]], '/home/trekin/Data/tmp/')"
   ]
  },
  {
   "cell_type": "code",
   "execution_count": 7,
   "metadata": {
    "collapsed": true
   },
   "outputs": [],
   "source": [
    "sharpener = LinearBrightnessScale(method='meanstd', std_width=3.0, pan_separate=True, per_channel=False)\n",
    "worker = Worker([sharpener])\n",
    "worker.setup_methods(bc, [b.name for b in bc])"
   ]
  },
  {
   "cell_type": "code",
   "execution_count": 8,
   "metadata": {
    "collapsed": true
   },
   "outputs": [],
   "source": [
    "ms = img[:-1]"
   ]
  },
  {
   "cell_type": "code",
   "execution_count": 9,
   "metadata": {},
   "outputs": [
    {
     "name": "stdout",
     "output_type": "stream",
     "text": [
      "1086.696585605715 817.9217910668985\n"
     ]
    }
   ],
   "source": [
    "print(sharpener._ms_max_value, \n",
    "      sharpener._pan_max_value)"
   ]
  },
  {
   "cell_type": "code",
   "execution_count": 10,
   "metadata": {},
   "outputs": [
    {
     "name": "stdout",
     "output_type": "stream",
     "text": [
      "428.36449862919756 206.67466983081343\n"
     ]
    }
   ],
   "source": [
    "print(ms.mean(), ms.std())"
   ]
  },
  {
   "cell_type": "code",
   "execution_count": 15,
   "metadata": {},
   "outputs": [
    {
     "data": {
      "text/plain": [
       "2471"
      ]
     },
     "execution_count": 15,
     "metadata": {},
     "output_type": "execute_result"
    }
   ],
   "source": [
    "print(sharpener._ms_mean_value, sharpener._ms_std_value)\n",
    "print(sharpener._pan_mean_value, sharpener._pan_std_value)"
   ]
  },
  {
   "cell_type": "code",
   "execution_count": 16,
   "metadata": {},
   "outputs": [
    {
     "data": {
      "text/plain": [
       "1048.3885081216379"
      ]
     },
     "execution_count": 16,
     "metadata": {},
     "output_type": "execute_result"
    }
   ],
   "source": [
    "ms.mean() + 3*ms.std()"
   ]
  },
  {
   "cell_type": "code",
   "execution_count": 23,
   "metadata": {
    "collapsed": true
   },
   "outputs": [],
   "source": [
    "# separate and per-channel\n",
    "\n",
    "sharpener = LinearBrightnessScale(method='meanstd', std_width=3.0, pan_separate=True, per_channel=True)\n",
    "worker = Worker([sharpener])\n",
    "worker.setup_methods(bc, [b.name for b in bc])"
   ]
  },
  {
   "cell_type": "code",
   "execution_count": 24,
   "metadata": {},
   "outputs": [
    {
     "name": "stdout",
     "output_type": "stream",
     "text": [
      "[0. 0. 0. 0.] 0\n"
     ]
    }
   ],
   "source": [
    "print(sharpener._ms_min_value, \n",
    "      sharpener._pan_min_value)"
   ]
  },
  {
   "cell_type": "code",
   "execution_count": 25,
   "metadata": {},
   "outputs": [
    {
     "name": "stdout",
     "output_type": "stream",
     "text": [
      "[ 755.01191758  730.13155133  705.02877268 1433.6360683 ] 817.9217910668985\n"
     ]
    }
   ],
   "source": [
    "print(sharpener._ms_max_value, \n",
    "      sharpener._pan_max_value)"
   ]
  },
  {
   "cell_type": "code",
   "execution_count": 15,
   "metadata": {},
   "outputs": [
    {
     "data": {
      "text/plain": [
       "array([255.], dtype=float32)"
      ]
     },
     "execution_count": 15,
     "metadata": {},
     "output_type": "execute_result"
    }
   ],
   "source": [
    "import numpy as np\n",
    "\n",
    "(np.array([254]).astype(np.float32) - 0)/(254-0)*255"
   ]
  },
  {
   "cell_type": "code",
   "execution_count": 24,
   "metadata": {},
   "outputs": [
    {
     "data": {
      "text/plain": [
       "array([2.])"
      ]
     },
     "execution_count": 24,
     "metadata": {},
     "output_type": "execute_result"
    }
   ],
   "source": [
    "np.divide(np.array([4], dtype=np.uint16), np.array([2], dtype=np.uint16))"
   ]
  },
  {
   "cell_type": "code",
   "execution_count": 83,
   "metadata": {},
   "outputs": [
    {
     "data": {
      "text/plain": [
       "71.0"
      ]
     },
     "execution_count": 83,
     "metadata": {},
     "output_type": "execute_result"
    }
   ],
   "source": [
    "np.floor_divide(0.27850103*255, (0.9999477-0.00018232843))"
   ]
  },
  {
   "cell_type": "code",
   "execution_count": 49,
   "metadata": {},
   "outputs": [
    {
     "data": {
      "text/plain": [
       "array([71.01776265])"
      ]
     },
     "execution_count": 49,
     "metadata": {},
     "output_type": "execute_result"
    }
   ],
   "source": [
    "np.array([0.27850103])*255"
   ]
  },
  {
   "cell_type": "code",
   "execution_count": 54,
   "metadata": {},
   "outputs": [
    {
     "data": {
      "text/plain": [
       "89"
      ]
     },
     "execution_count": 54,
     "metadata": {},
     "output_type": "execute_result"
    }
   ],
   "source": [
    "np.floor_divide((1578-2)*255, (4499-2)) + 0"
   ]
  },
  {
   "cell_type": "code",
   "execution_count": 58,
   "metadata": {},
   "outputs": [
    {
     "data": {
      "text/plain": [
       "array([89], dtype=uint8)"
      ]
     },
     "execution_count": 58,
     "metadata": {},
     "output_type": "execute_result"
    }
   ],
   "source": [
    "np.around(np.array([1578-2])*255/(4497), 0).clip(0,255).astype(np.uint8)"
   ]
  },
  {
   "cell_type": "code",
   "execution_count": 91,
   "metadata": {},
   "outputs": [
    {
     "data": {
      "text/plain": [
       "dtype('int64')"
      ]
     },
     "execution_count": 91,
     "metadata": {},
     "output_type": "execute_result"
    }
   ],
   "source": [
    "np.multiply(np.array([100], dtype=np.uint8), 3, dtype=np.result_type(np.array([100]), 3)).dtype"
   ]
  },
  {
   "cell_type": "code",
   "execution_count": null,
   "metadata": {
    "collapsed": true
   },
   "outputs": [],
   "source": [
    "9 5 0.8470032 216 215 215.98569\n",
    "0.0001635356165934354 0.9998875260353088"
   ]
  },
  {
   "cell_type": "code",
   "execution_count": 102,
   "metadata": {},
   "outputs": [
    {
     "data": {
      "text/plain": [
       "216.04544661325818"
      ]
     },
     "execution_count": 102,
     "metadata": {},
     "output_type": "execute_result"
    }
   ],
   "source": [
    "0.8470032*255/(0.9998875260353088 - 0.0001635356165934354)"
   ]
  },
  {
   "cell_type": "code",
   "execution_count": 115,
   "metadata": {},
   "outputs": [
    {
     "data": {
      "text/plain": [
       "array([216.04544661, 216.04544661, 216.04544661, 216.04544661,\n",
       "       216.04544661, 216.04544661, 216.04544661, 216.04544661,\n",
       "       216.04544661, 216.04544661, 216.04544661, 216.04544661,\n",
       "       216.04544661, 216.04544661, 216.04544661, 216.04544661,\n",
       "       216.04544661, 216.04544661, 216.04544661, 216.04544661,\n",
       "       216.04544661, 216.04544661, 216.04544661, 216.04544661,\n",
       "       216.04544661, 216.04544661, 216.04544661, 216.04544661,\n",
       "       216.04544661, 216.04544661, 216.04544661, 216.04544661,\n",
       "       216.04544661, 216.04544661, 216.04544661, 216.04544661,\n",
       "       216.04544661, 216.04544661, 216.04544661, 216.04544661,\n",
       "       216.04544661, 216.04544661, 216.04544661, 216.04544661,\n",
       "       216.04544661, 216.04544661, 216.04544661, 216.04544661,\n",
       "       216.04544661, 216.04544661, 216.04544661, 216.04544661,\n",
       "       216.04544661, 216.04544661, 216.04544661, 216.04544661,\n",
       "       216.04544661, 216.04544661, 216.04544661, 216.04544661,\n",
       "       216.04544661, 216.04544661, 216.04544661, 216.04544661,\n",
       "       216.04544661, 216.04544661, 216.04544661, 216.04544661,\n",
       "       216.04544661, 216.04544661, 216.04544661, 216.04544661,\n",
       "       216.04544661, 216.04544661, 216.04544661, 216.04544661,\n",
       "       216.04544661, 216.04544661, 216.04544661, 216.04544661,\n",
       "       216.04544661, 216.04544661, 216.04544661, 216.04544661,\n",
       "       216.04544661, 216.04544661, 216.04544661, 216.04544661,\n",
       "       216.04544661, 216.04544661, 216.04544661, 216.04544661,\n",
       "       216.04544661, 216.04544661, 216.04544661, 216.04544661,\n",
       "       216.04544661, 216.04544661, 216.04544661, 216.04544661,\n",
       "       216.04544661, 216.04544661, 216.04544661, 216.04544661,\n",
       "       216.04544661, 216.04544661, 216.04544661, 216.04544661,\n",
       "       216.04544661, 216.04544661, 216.04544661, 216.04544661,\n",
       "       216.04544661, 216.04544661, 216.04544661, 216.04544661,\n",
       "       216.04544661, 216.04544661, 216.04544661, 216.04544661,\n",
       "       216.04544661, 216.04544661, 216.04544661, 216.04544661,\n",
       "       216.04544661, 216.04544661, 216.04544661, 216.04544661,\n",
       "       216.04544661, 216.04544661, 216.04544661, 216.04544661,\n",
       "       216.04544661, 216.04544661, 216.04544661, 216.04544661,\n",
       "       216.04544661, 216.04544661, 216.04544661, 216.04544661,\n",
       "       216.04544661, 216.04544661, 216.04544661, 216.04544661,\n",
       "       216.04544661, 216.04544661, 216.04544661, 216.04544661,\n",
       "       216.04544661, 216.04544661, 216.04544661, 216.04544661,\n",
       "       216.04544661, 216.04544661, 216.04544661, 216.04544661,\n",
       "       216.04544661, 216.04544661, 216.04544661, 216.04544661,\n",
       "       216.04544661, 216.04544661, 216.04544661, 216.04544661,\n",
       "       216.04544661, 216.04544661, 216.04544661, 216.04544661,\n",
       "       216.04544661, 216.04544661, 216.04544661, 216.04544661,\n",
       "       216.04544661, 216.04544661, 216.04544661, 216.04544661,\n",
       "       216.04544661, 216.04544661, 216.04544661, 216.04544661,\n",
       "       216.04544661, 216.04544661, 216.04544661, 216.04544661,\n",
       "       216.04544661, 216.04544661, 216.04544661, 216.04544661,\n",
       "       216.04544661, 216.04544661, 216.04544661, 216.04544661,\n",
       "       216.04544661, 216.04544661, 216.04544661, 216.04544661,\n",
       "       216.04544661, 216.04544661, 216.04544661, 216.04544661,\n",
       "       216.04544661, 216.04544661, 216.04544661, 216.04544661,\n",
       "       216.04544661, 216.04544661, 216.04544661, 216.04544661,\n",
       "       216.04544661, 216.04544661, 216.04544661, 216.04544661,\n",
       "       216.04544661, 216.04544661, 216.04544661, 216.04544661,\n",
       "       216.04544661, 216.04544661, 216.04544661, 216.04544661,\n",
       "       216.04544661, 216.04544661, 216.04544661, 216.04544661,\n",
       "       216.04544661, 216.04544661, 216.04544661, 216.04544661,\n",
       "       216.04544661, 216.04544661, 216.04544661, 216.04544661,\n",
       "       216.04544661, 216.04544661, 216.04544661, 216.04544661,\n",
       "       216.04544661, 216.04544661, 216.04544661, 216.04544661,\n",
       "       216.04544661, 216.04544661, 216.04544661, 216.04544661,\n",
       "       216.04544661, 216.04544661, 216.04544661, 216.04544661,\n",
       "       216.04544661, 216.04544661, 216.04544661, 216.04544661,\n",
       "       216.04544661, 216.04544661, 216.04544661, 216.04544661,\n",
       "       216.04544661, 216.04544661, 216.04544661, 216.04544661,\n",
       "       216.04544661, 216.04544661, 216.04544661, 216.04544661,\n",
       "       216.04544661, 216.04544661, 216.04544661, 216.04544661,\n",
       "       216.04544661, 216.04544661, 216.04544661, 216.04544661,\n",
       "       216.04544661, 216.04544661, 216.04544661, 216.04544661,\n",
       "       216.04544661, 216.04544661, 216.04544661, 216.04544661,\n",
       "       216.04544661, 216.04544661, 216.04544661, 216.04544661,\n",
       "       216.04544661, 216.04544661, 216.04544661, 216.04544661,\n",
       "       216.04544661, 216.04544661, 216.04544661, 216.04544661,\n",
       "       216.04544661, 216.04544661, 216.04544661, 216.04544661,\n",
       "       216.04544661, 216.04544661, 216.04544661, 216.04544661,\n",
       "       216.04544661, 216.04544661, 216.04544661, 216.04544661,\n",
       "       216.04544661, 216.04544661, 216.04544661, 216.04544661,\n",
       "       216.04544661, 216.04544661, 216.04544661, 216.04544661,\n",
       "       216.04544661, 216.04544661, 216.04544661, 216.04544661,\n",
       "       216.04544661, 216.04544661, 216.04544661, 216.04544661,\n",
       "       216.04544661, 216.04544661, 216.04544661, 216.04544661,\n",
       "       216.04544661, 216.04544661, 216.04544661, 216.04544661,\n",
       "       216.04544661, 216.04544661, 216.04544661, 216.04544661,\n",
       "       216.04544661, 216.04544661, 216.04544661, 216.04544661,\n",
       "       216.04544661, 216.04544661, 216.04544661, 216.04544661,\n",
       "       216.04544661, 216.04544661, 216.04544661, 216.04544661,\n",
       "       216.04544661, 216.04544661, 216.04544661, 216.04544661,\n",
       "       216.04544661, 216.04544661, 216.04544661, 216.04544661,\n",
       "       216.04544661, 216.04544661, 216.04544661, 216.04544661,\n",
       "       216.04544661, 216.04544661, 216.04544661, 216.04544661,\n",
       "       216.04544661, 216.04544661, 216.04544661, 216.04544661,\n",
       "       216.04544661, 216.04544661, 216.04544661, 216.04544661,\n",
       "       216.04544661, 216.04544661, 216.04544661, 216.04544661,\n",
       "       216.04544661, 216.04544661, 216.04544661, 216.04544661,\n",
       "       216.04544661, 216.04544661, 216.04544661, 216.04544661,\n",
       "       216.04544661, 216.04544661, 216.04544661, 216.04544661,\n",
       "       216.04544661, 216.04544661, 216.04544661, 216.04544661,\n",
       "       216.04544661, 216.04544661, 216.04544661, 216.04544661,\n",
       "       216.04544661, 216.04544661, 216.04544661, 216.04544661,\n",
       "       216.04544661, 216.04544661, 216.04544661, 216.04544661,\n",
       "       216.04544661, 216.04544661, 216.04544661, 216.04544661,\n",
       "       216.04544661, 216.04544661, 216.04544661, 216.04544661,\n",
       "       216.04544661, 216.04544661, 216.04544661, 216.04544661,\n",
       "       216.04544661, 216.04544661, 216.04544661, 216.04544661,\n",
       "       216.04544661, 216.04544661, 216.04544661, 216.04544661,\n",
       "       216.04544661, 216.04544661, 216.04544661, 216.04544661,\n",
       "       216.04544661, 216.04544661, 216.04544661, 216.04544661,\n",
       "       216.04544661, 216.04544661, 216.04544661, 216.04544661,\n",
       "       216.04544661, 216.04544661, 216.04544661, 216.04544661,\n",
       "       216.04544661, 216.04544661, 216.04544661, 216.04544661,\n",
       "       216.04544661, 216.04544661, 216.04544661, 216.04544661,\n",
       "       216.04544661, 216.04544661, 216.04544661, 216.04544661,\n",
       "       216.04544661, 216.04544661, 216.04544661, 216.04544661,\n",
       "       216.04544661, 216.04544661, 216.04544661, 216.04544661,\n",
       "       216.04544661, 216.04544661, 216.04544661, 216.04544661,\n",
       "       216.04544661, 216.04544661, 216.04544661, 216.04544661,\n",
       "       216.04544661, 216.04544661, 216.04544661, 216.04544661,\n",
       "       216.04544661, 216.04544661, 216.04544661, 216.04544661,\n",
       "       216.04544661, 216.04544661, 216.04544661, 216.04544661,\n",
       "       216.04544661, 216.04544661, 216.04544661, 216.04544661,\n",
       "       216.04544661, 216.04544661, 216.04544661, 216.04544661,\n",
       "       216.04544661, 216.04544661, 216.04544661, 216.04544661,\n",
       "       216.04544661, 216.04544661, 216.04544661, 216.04544661,\n",
       "       216.04544661, 216.04544661, 216.04544661, 216.04544661,\n",
       "       216.04544661, 216.04544661, 216.04544661, 216.04544661,\n",
       "       216.04544661, 216.04544661, 216.04544661, 216.04544661,\n",
       "       216.04544661, 216.04544661, 216.04544661, 216.04544661,\n",
       "       216.04544661, 216.04544661, 216.04544661, 216.04544661,\n",
       "       216.04544661, 216.04544661, 216.04544661, 216.04544661,\n",
       "       216.04544661, 216.04544661, 216.04544661, 216.04544661,\n",
       "       216.04544661, 216.04544661, 216.04544661, 216.04544661,\n",
       "       216.04544661, 216.04544661, 216.04544661, 216.04544661,\n",
       "       216.04544661, 216.04544661, 216.04544661, 216.04544661,\n",
       "       216.04544661, 216.04544661, 216.04544661, 216.04544661,\n",
       "       216.04544661, 216.04544661, 216.04544661, 216.04544661,\n",
       "       216.04544661, 216.04544661, 216.04544661, 216.04544661,\n",
       "       216.04544661, 216.04544661, 216.04544661, 216.04544661,\n",
       "       216.04544661, 216.04544661, 216.04544661, 216.04544661,\n",
       "       216.04544661, 216.04544661, 216.04544661, 216.04544661,\n",
       "       216.04544661, 216.04544661, 216.04544661, 216.04544661,\n",
       "       216.04544661, 216.04544661, 216.04544661, 216.04544661,\n",
       "       216.04544661, 216.04544661, 216.04544661, 216.04544661,\n",
       "       216.04544661, 216.04544661, 216.04544661, 216.04544661,\n",
       "       216.04544661, 216.04544661, 216.04544661, 216.04544661,\n",
       "       216.04544661, 216.04544661, 216.04544661, 216.04544661,\n",
       "       216.04544661, 216.04544661, 216.04544661, 216.04544661,\n",
       "       216.04544661, 216.04544661, 216.04544661, 216.04544661,\n",
       "       216.04544661, 216.04544661, 216.04544661, 216.04544661,\n",
       "       216.04544661, 216.04544661, 216.04544661, 216.04544661,\n",
       "       216.04544661, 216.04544661, 216.04544661, 216.04544661,\n",
       "       216.04544661, 216.04544661, 216.04544661, 216.04544661,\n",
       "       216.04544661, 216.04544661, 216.04544661, 216.04544661,\n",
       "       216.04544661, 216.04544661, 216.04544661, 216.04544661,\n",
       "       216.04544661, 216.04544661, 216.04544661, 216.04544661,\n",
       "       216.04544661, 216.04544661, 216.04544661, 216.04544661,\n",
       "       216.04544661, 216.04544661, 216.04544661, 216.04544661,\n",
       "       216.04544661, 216.04544661, 216.04544661, 216.04544661,\n",
       "       216.04544661, 216.04544661, 216.04544661, 216.04544661,\n",
       "       216.04544661, 216.04544661, 216.04544661, 216.04544661,\n",
       "       216.04544661, 216.04544661, 216.04544661, 216.04544661,\n",
       "       216.04544661, 216.04544661, 216.04544661, 216.04544661,\n",
       "       216.04544661, 216.04544661, 216.04544661, 216.04544661,\n",
       "       216.04544661, 216.04544661, 216.04544661, 216.04544661,\n",
       "       216.04544661, 216.04544661, 216.04544661, 216.04544661,\n",
       "       216.04544661, 216.04544661, 216.04544661, 216.04544661,\n",
       "       216.04544661, 216.04544661, 216.04544661, 216.04544661,\n",
       "       216.04544661, 216.04544661, 216.04544661, 216.04544661,\n",
       "       216.04544661, 216.04544661, 216.04544661, 216.04544661,\n",
       "       216.04544661, 216.04544661, 216.04544661, 216.04544661,\n",
       "       216.04544661, 216.04544661, 216.04544661, 216.04544661,\n",
       "       216.04544661, 216.04544661, 216.04544661, 216.04544661,\n",
       "       216.04544661, 216.04544661, 216.04544661, 216.04544661,\n",
       "       216.04544661, 216.04544661, 216.04544661, 216.04544661,\n",
       "       216.04544661, 216.04544661, 216.04544661, 216.04544661,\n",
       "       216.04544661, 216.04544661, 216.04544661, 216.04544661,\n",
       "       216.04544661, 216.04544661, 216.04544661, 216.04544661,\n",
       "       216.04544661, 216.04544661, 216.04544661, 216.04544661,\n",
       "       216.04544661, 216.04544661, 216.04544661, 216.04544661,\n",
       "       216.04544661, 216.04544661, 216.04544661, 216.04544661,\n",
       "       216.04544661, 216.04544661, 216.04544661, 216.04544661,\n",
       "       216.04544661, 216.04544661, 216.04544661, 216.04544661,\n",
       "       216.04544661, 216.04544661, 216.04544661, 216.04544661,\n",
       "       216.04544661, 216.04544661, 216.04544661, 216.04544661,\n",
       "       216.04544661, 216.04544661, 216.04544661, 216.04544661,\n",
       "       216.04544661, 216.04544661, 216.04544661, 216.04544661,\n",
       "       216.04544661, 216.04544661, 216.04544661, 216.04544661,\n",
       "       216.04544661, 216.04544661, 216.04544661, 216.04544661,\n",
       "       216.04544661, 216.04544661, 216.04544661, 216.04544661,\n",
       "       216.04544661, 216.04544661, 216.04544661, 216.04544661,\n",
       "       216.04544661, 216.04544661, 216.04544661, 216.04544661,\n",
       "       216.04544661, 216.04544661, 216.04544661, 216.04544661,\n",
       "       216.04544661, 216.04544661, 216.04544661, 216.04544661,\n",
       "       216.04544661, 216.04544661, 216.04544661, 216.04544661,\n",
       "       216.04544661, 216.04544661, 216.04544661, 216.04544661,\n",
       "       216.04544661, 216.04544661, 216.04544661, 216.04544661,\n",
       "       216.04544661, 216.04544661, 216.04544661, 216.04544661,\n",
       "       216.04544661, 216.04544661, 216.04544661, 216.04544661,\n",
       "       216.04544661, 216.04544661, 216.04544661, 216.04544661,\n",
       "       216.04544661, 216.04544661, 216.04544661, 216.04544661,\n",
       "       216.04544661, 216.04544661, 216.04544661, 216.04544661,\n",
       "       216.04544661, 216.04544661, 216.04544661, 216.04544661,\n",
       "       216.04544661, 216.04544661, 216.04544661, 216.04544661,\n",
       "       216.04544661, 216.04544661, 216.04544661, 216.04544661,\n",
       "       216.04544661, 216.04544661, 216.04544661, 216.04544661,\n",
       "       216.04544661, 216.04544661, 216.04544661, 216.04544661,\n",
       "       216.04544661, 216.04544661, 216.04544661, 216.04544661,\n",
       "       216.04544661, 216.04544661, 216.04544661, 216.04544661,\n",
       "       216.04544661, 216.04544661, 216.04544661, 216.04544661,\n",
       "       216.04544661, 216.04544661, 216.04544661, 216.04544661,\n",
       "       216.04544661, 216.04544661, 216.04544661, 216.04544661,\n",
       "       216.04544661, 216.04544661, 216.04544661, 216.04544661,\n",
       "       216.04544661, 216.04544661, 216.04544661, 216.04544661,\n",
       "       216.04544661, 216.04544661, 216.04544661, 216.04544661,\n",
       "       216.04544661, 216.04544661, 216.04544661, 216.04544661,\n",
       "       216.04544661, 216.04544661, 216.04544661, 216.04544661,\n",
       "       216.04544661, 216.04544661, 216.04544661, 216.04544661,\n",
       "       216.04544661, 216.04544661, 216.04544661, 216.04544661,\n",
       "       216.04544661, 216.04544661, 216.04544661, 216.04544661,\n",
       "       216.04544661, 216.04544661, 216.04544661, 216.04544661,\n",
       "       216.04544661, 216.04544661, 216.04544661, 216.04544661,\n",
       "       216.04544661, 216.04544661, 216.04544661, 216.04544661,\n",
       "       216.04544661, 216.04544661, 216.04544661, 216.04544661,\n",
       "       216.04544661, 216.04544661, 216.04544661, 216.04544661,\n",
       "       216.04544661, 216.04544661, 216.04544661, 216.04544661,\n",
       "       216.04544661, 216.04544661, 216.04544661, 216.04544661,\n",
       "       216.04544661, 216.04544661, 216.04544661, 216.04544661,\n",
       "       216.04544661, 216.04544661, 216.04544661, 216.04544661,\n",
       "       216.04544661, 216.04544661, 216.04544661, 216.04544661,\n",
       "       216.04544661, 216.04544661, 216.04544661, 216.04544661,\n",
       "       216.04544661, 216.04544661, 216.04544661, 216.04544661,\n",
       "       216.04544661, 216.04544661, 216.04544661, 216.04544661,\n",
       "       216.04544661, 216.04544661, 216.04544661, 216.04544661,\n",
       "       216.04544661, 216.04544661, 216.04544661, 216.04544661,\n",
       "       216.04544661, 216.04544661, 216.04544661, 216.04544661,\n",
       "       216.04544661, 216.04544661, 216.04544661, 216.04544661,\n",
       "       216.04544661, 216.04544661, 216.04544661, 216.04544661,\n",
       "       216.04544661, 216.04544661, 216.04544661, 216.04544661,\n",
       "       216.04544661, 216.04544661, 216.04544661, 216.04544661,\n",
       "       216.04544661, 216.04544661, 216.04544661, 216.04544661,\n",
       "       216.04544661, 216.04544661, 216.04544661, 216.04544661,\n",
       "       216.04544661, 216.04544661, 216.04544661, 216.04544661,\n",
       "       216.04544661, 216.04544661, 216.04544661, 216.04544661,\n",
       "       216.04544661, 216.04544661, 216.04544661, 216.04544661,\n",
       "       216.04544661, 216.04544661, 216.04544661, 216.04544661,\n",
       "       216.04544661, 216.04544661, 216.04544661, 216.04544661,\n",
       "       216.04544661, 216.04544661, 216.04544661, 216.04544661,\n",
       "       216.04544661, 216.04544661, 216.04544661, 216.04544661,\n",
       "       216.04544661, 216.04544661, 216.04544661, 216.04544661,\n",
       "       216.04544661, 216.04544661, 216.04544661, 216.04544661,\n",
       "       216.04544661, 216.04544661, 216.04544661, 216.04544661])"
      ]
     },
     "execution_count": 115,
     "metadata": {},
     "output_type": "execute_result"
    }
   ],
   "source": [
    "np.array([0.8470032]*1000)*np.array([255]*1000)/(np.array(0.9998875260353088)-np.array(0.0001635356165934354))"
   ]
  },
  {
   "cell_type": "code",
   "execution_count": 118,
   "metadata": {},
   "outputs": [
    {
     "ename": "TypeError",
     "evalue": "Cannot cast ufunc multiply input from dtype('float64') to dtype('int64') with casting rule 'same_kind'",
     "output_type": "error",
     "traceback": [
      "\u001b[0;31m---------------------------------------------------------------------------\u001b[0m",
      "\u001b[0;31mTypeError\u001b[0m                                 Traceback (most recent call last)",
      "\u001b[0;32m<ipython-input-118-0b1e0f9c25b0>\u001b[0m in \u001b[0;36m<module>\u001b[0;34m()\u001b[0m\n\u001b[0;32m----> 1\u001b[0;31m \u001b[0mnp\u001b[0m\u001b[0;34m.\u001b[0m\u001b[0mmultiply\u001b[0m\u001b[0;34m(\u001b[0m\u001b[0;36m10\u001b[0m\u001b[0;34m,\u001b[0m \u001b[0;36m1.5\u001b[0m\u001b[0;34m,\u001b[0m \u001b[0mdtype\u001b[0m\u001b[0;34m=\u001b[0m\u001b[0mnp\u001b[0m\u001b[0;34m.\u001b[0m\u001b[0mint64\u001b[0m\u001b[0;34m)\u001b[0m\u001b[0;34m\u001b[0m\u001b[0m\n\u001b[0m",
      "\u001b[0;31mTypeError\u001b[0m: Cannot cast ufunc multiply input from dtype('float64') to dtype('int64') with casting rule 'same_kind'"
     ]
    }
   ],
   "source": [
    "\n",
    "np.multiply(10, 1.5, dtype=np.int64)"
   ]
  },
  {
   "cell_type": "code",
   "execution_count": 176,
   "metadata": {},
   "outputs": [],
   "source": [
    "SIZE = 10\n",
    "\n",
    "def test_meanstd(img, v=True):\n",
    "    if img.shape != (10*SIZE, 10*SIZE):\n",
    "        raise ValueError('Wrong size')\n",
    "    gt_mean = img.mean()\n",
    "    gt_std = img.std()\n",
    "    means=[]\n",
    "    stds = []\n",
    "    nums = []\n",
    "    mes = []\n",
    "    for i in range(10):\n",
    "        for j in range(10):\n",
    "            mean, std, num, me = _meanstdme(img[i*SIZE:(i+1)*SIZE, j*SIZE:(j+1)*SIZE])\n",
    "            means.append(mean)\n",
    "            stds.append(std)\n",
    "            nums.append(num)\n",
    "            mes.append(me)\n",
    "            \n",
    "    patch_mean, patch_std = _totalmeanstd(means, stds, nums, mes)\n",
    "    \n",
    "    if v:\n",
    "        print(np.equal(patch_mean, gt_mean))    \n",
    "        print(patch_mean, gt_mean)\n",
    "        print(np.allclose(patch_std, gt_std))\n",
    "        print(patch_std, gt_std)\n",
    "    return np.equal(patch_mean, gt_mean) and np.allclose(patch_std, gt_std)"
   ]
  },
  {
   "cell_type": "code",
   "execution_count": 177,
   "metadata": {},
   "outputs": [
    {
     "name": "stdout",
     "output_type": "stream",
     "text": [
      "True\n",
      "1.0 1.0\n",
      "True\n",
      "0.0 0.0\n"
     ]
    },
    {
     "data": {
      "text/plain": [
       "True"
      ]
     },
     "execution_count": 177,
     "metadata": {},
     "output_type": "execute_result"
    }
   ],
   "source": [
    "test_meanstd(np.ones((100,100),  dtype=np.uint8))"
   ]
  },
  {
   "cell_type": "code",
   "execution_count": 179,
   "metadata": {},
   "outputs": [],
   "source": [
    "for _ in range(1000):\n",
    "    arr = np.random.randint(11, 244, (100,100), dtype=np.uint8)\n",
    "    if not test_meanstd(arr, v=False):\n",
    "        print(_)\n",
    "    "
   ]
  }
 ],
 "metadata": {
  "kernelspec": {
   "display_name": "Python 3",
   "language": "python",
   "name": "python3"
  },
  "language_info": {
   "codemirror_mode": {
    "name": "ipython",
    "version": 3
   },
   "file_extension": ".py",
   "mimetype": "text/x-python",
   "name": "python",
   "nbconvert_exporter": "python",
   "pygments_lexer": "ipython3",
   "version": "3.6.3"
  }
 },
 "nbformat": 4,
 "nbformat_minor": 2
}
